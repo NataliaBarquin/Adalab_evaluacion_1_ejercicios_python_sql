{
 "cells": [
  {
   "attachments": {},
   "cell_type": "markdown",
   "metadata": {},
   "source": [
    "**Métodos de *strings***\n",
    "\n",
    "Dado el siguiente *string* \n",
    "\n",
    "```python\n",
    "\n",
    "string = \"\"\"Hoy estamos en una clase de repaso,\n",
    "el objetivo es intentar solucionar todas vuestras dudas, \n",
    "preguntad todo lo que queráis! \n",
    "\"\"\"\n",
    "```\n",
    "\n",
    "\n",
    "Contesta a las siguientes preguntas: \n",
    "\n",
    "1️⃣ Crea dos variables nuevas: \n",
    "    - Una con el *string* en mayúsculas\n",
    "    - Otra con las letras en minúsculas\n",
    "\n",
    "2️⃣ Pon todas las primeras letras del *string* en mayúscula\n",
    "\n",
    "3️⃣ Separa el *string*  por los espacios y almacena el resultado en una lista llamanda `texto_lista`\n",
    "\n",
    "4️⃣ De la lista obtenida en el ejercicio anterior, selecciona solo los 5 primero elementos y almacena los resultados en una variable que se llame `texto_lista_corta` \n",
    "\n",
    "5️⃣ De la lista obtenida en el ejercicio 4. Vuelve a convertirlo en *string* \n",
    "\n",
    "6️⃣ Con el *string* obtenido en el paso anterior: \n",
    "\n",
    "    - Esta la palabra \"el\" en el *string* \n",
    "\n",
    "    - Reemplaza \"Hoy\" por nada\n",
    "\n",
    "    - El ejercicio anterior nos ha dejado espacios al inicio del string, eliminalos\n"
   ]
  },
  {
   "cell_type": "code",
   "execution_count": 1,
   "metadata": {},
   "outputs": [],
   "source": [
    "texto = \"\"\"Hoy estamos en una clase de repaso,\n",
    "el objetivo es intentar solucionar todas vuestras dudas, \n",
    "preguntad todo lo que queráis!\n",
    "\"\"\""
   ]
  },
  {
   "cell_type": "code",
   "execution_count": 2,
   "metadata": {},
   "outputs": [
    {
     "name": "stdout",
     "output_type": "stream",
     "text": [
      "HOY ESTAMOS EN UNA CLASE DE REPASO,\n",
      "EL OBJETIVO ES INTENTAR SOLUCIONAR TODAS VUESTRAS DUDAS, \n",
      "PREGUNTAD TODO LO QUE QUERÁIS!\n",
      "\n",
      "hoy estamos en una clase de repaso,\n",
      "el objetivo es intentar solucionar todas vuestras dudas, \n",
      "preguntad todo lo que queráis!\n",
      "\n",
      "Hoy Estamos En Una Clase De Repaso,\n",
      "El Objetivo Es Intentar Solucionar Todas Vuestras Dudas, \n",
      "Preguntad Todo Lo Que Queráis!\n",
      "\n"
     ]
    }
   ],
   "source": [
    "texto_mayus = texto.upper()\n",
    "texto_minus = texto.lower()\n",
    "\n",
    "print(texto_mayus)\n",
    "print(texto_minus)\n",
    "print(texto.title())"
   ]
  },
  {
   "cell_type": "code",
   "execution_count": 3,
   "metadata": {},
   "outputs": [
    {
     "name": "stdout",
     "output_type": "stream",
     "text": [
      "['Hoy', 'estamos', 'en', 'una', 'clase', 'de', 'repaso,', 'el', 'objetivo', 'es', 'intentar', 'solucionar', 'todas', 'vuestras', 'dudas,', 'preguntad', 'todo', 'lo', 'que', 'queráis!']\n"
     ]
    }
   ],
   "source": [
    "texto_lista = texto.split()\n",
    "print(texto_lista)"
   ]
  },
  {
   "cell_type": "code",
   "execution_count": 4,
   "metadata": {},
   "outputs": [
    {
     "name": "stdout",
     "output_type": "stream",
     "text": [
      "['Hoy', 'estamos', 'en', 'una', 'clase']\n"
     ]
    }
   ],
   "source": [
    "texto_lista_corta = texto_lista[:5]\n",
    "print(texto_lista_corta)"
   ]
  },
  {
   "cell_type": "code",
   "execution_count": 5,
   "metadata": {},
   "outputs": [
    {
     "name": "stdout",
     "output_type": "stream",
     "text": [
      "Hoy estamos en una clase\n"
     ]
    }
   ],
   "source": [
    "texto_string = ' '.join(texto_lista_corta)\n",
    "print(texto_string)"
   ]
  },
  {
   "cell_type": "code",
   "execution_count": 6,
   "metadata": {},
   "outputs": [
    {
     "data": {
      "text/plain": [
       "-1"
      ]
     },
     "execution_count": 6,
     "metadata": {},
     "output_type": "execute_result"
    }
   ],
   "source": [
    "texto_string.find('el')\n",
    "\n",
    "#Con este método comprobamos que 'el' NO está dentro de nuestro string, ya que nos devuelve -1.\n",
    "#Si estuviera, nos habría devuelto su posición dentro del string (contando como índice cada carácter individual)."
   ]
  },
  {
   "cell_type": "code",
   "execution_count": 7,
   "metadata": {},
   "outputs": [
    {
     "name": "stdout",
     "output_type": "stream",
     "text": [
      "La palabra 'el' no está dentro de nuestro string.\n"
     ]
    }
   ],
   "source": [
    "#otra forma de resolverlo (sin usar un método de string) sería:\n",
    "\n",
    "if 'el' in texto_string:\n",
    "    print(\"La palabra 'el' está dentro de nuestro string.\")\n",
    "else:\n",
    "    print(\"La palabra 'el' no está dentro de nuestro string.\")"
   ]
  },
  {
   "cell_type": "code",
   "execution_count": 8,
   "metadata": {},
   "outputs": [
    {
     "name": "stdout",
     "output_type": "stream",
     "text": [
      "    estamos en una clase\n"
     ]
    }
   ],
   "source": [
    "texto_sin_hoy = texto_string.replace('Hoy', '   ')\n",
    "print(texto_sin_hoy)"
   ]
  },
  {
   "cell_type": "code",
   "execution_count": 9,
   "metadata": {},
   "outputs": [
    {
     "name": "stdout",
     "output_type": "stream",
     "text": [
      "estamos en una clase\n"
     ]
    }
   ],
   "source": [
    "texto_sin_espacio = texto_sin_hoy.strip()\n",
    "print(texto_sin_espacio)"
   ]
  },
  {
   "attachments": {},
   "cell_type": "markdown",
   "metadata": {},
   "source": [
    "**Encuentra el número que no está en la lista**\n",
    "\n",
    "Tenemos una lista desordenada con números positivos de 1 a n. Siempre faltará un sólo número de esta lista aleatoria, ¿cómo identifico cuál falta? Cread un programa para que este código devuelva los resultados deseados:\n",
    "\n",
    "```python\n",
    "lista1 = [3,7,1,2,8,4,5] # nos tiene que devolver 6\n",
    "lista2 = [4,6,1,3,5] #  nos tiene que devolver 2\n",
    "lista3 = [34,35,36,38,39,40] # nos tiene que devolver 37\n",
    "```\n",
    "\n",
    "BONUS: Introduce los resultados obtenidos en un diccionario, indicando que numero falta para cada una de las listas:\n",
    "```python\n",
    "# por ejemplo\n",
    "\n",
    "resultados = {'falta_lista_1': valor_numerico_1, 'falta_lista_2': valor_numerico_2, 'falta_lista_3': valor_numerico_3}\n",
    "```"
   ]
  },
  {
   "cell_type": "code",
   "execution_count": 10,
   "metadata": {},
   "outputs": [],
   "source": [
    "lista1 = [3,1,7,2,8,4,5]\n",
    "lista2 = [4,6,1,3,5]\n",
    "lista3 = [34,35,36,38,39,40]"
   ]
  },
  {
   "cell_type": "code",
   "execution_count": 11,
   "metadata": {},
   "outputs": [],
   "source": [
    "def numero_que_falta(lista):\n",
    "\n",
    "    \"\"\"De una lista de números en la que falta uno, te devuelve el número que falta.\n",
    "    Args:\n",
    "        lista (list): lista con números consecutivos a excepción de uno\n",
    "    Returns:\n",
    "        int: número que no está en la lista\n",
    "    \"\"\"\n",
    "    \n",
    "    valor_min = min(lista)\n",
    "    valor_max = max(lista) \n",
    "\n",
    "    for elemento in range(valor_min, (valor_max+1)):\n",
    "        if elemento in lista:\n",
    "            pass\n",
    "        else:\n",
    "            return elemento"
   ]
  },
  {
   "cell_type": "code",
   "execution_count": 12,
   "metadata": {},
   "outputs": [
    {
     "name": "stdout",
     "output_type": "stream",
     "text": [
      "El número que falta es 6\n",
      "El número que falta es 2\n",
      "El número que falta es 37\n"
     ]
    }
   ],
   "source": [
    "print(f'El número que falta es {numero_que_falta(lista1)}')\n",
    "print(f'El número que falta es {numero_que_falta(lista2)}')\n",
    "print(f'El número que falta es {numero_que_falta(lista3)}')"
   ]
  },
  {
   "cell_type": "code",
   "execution_count": 13,
   "metadata": {},
   "outputs": [],
   "source": [
    "def diccionario_num_que_falta(lista_list):\n",
    "\n",
    "    \"\"\"En base a una lista de listas que recibe (cada una con números consecutivos en los que falta uno), llama a la función 'numero_que_falta'\n",
    "    y devuelve un diccionario,en el que las keys son el nombre de lista y los values el número que falta dentro de esa lista.\n",
    "    Args:\n",
    "        lista de listas (list): lista de listas en la que cada una tiene números consecutivos a excepción de uno.\n",
    "    Returns:\n",
    "        dict: diccionario\n",
    "    \"\"\"\n",
    "    \n",
    "    dict_num_falta = {}\n",
    "    \n",
    "    for indice in range(0, len(lista_list)):\n",
    "\n",
    "        lista = lista_list[indice]\n",
    "        \n",
    "        dict_num_falta.update({f'Falta_lista_{indice +1}': numero_que_falta(lista)})\n",
    "\n",
    "    return dict_num_falta"
   ]
  },
  {
   "cell_type": "code",
   "execution_count": 14,
   "metadata": {},
   "outputs": [],
   "source": [
    "lista_listas = [lista1, lista2, lista3]"
   ]
  },
  {
   "cell_type": "code",
   "execution_count": 15,
   "metadata": {},
   "outputs": [
    {
     "data": {
      "text/plain": [
       "{'Falta_lista_1': 6, 'Falta_lista_2': 2, 'Falta_lista_3': 37}"
      ]
     },
     "execution_count": 15,
     "metadata": {},
     "output_type": "execute_result"
    }
   ],
   "source": [
    "dict_falta = diccionario_num_que_falta(lista_listas)\n",
    "dict_falta"
   ]
  },
  {
   "attachments": {},
   "cell_type": "markdown",
   "metadata": {},
   "source": [
    "**Mover los ceros a la izquierda**\n",
    "\n",
    "Nos dan un *string* con números aleatorios. Algunos de ellos son 0. Encuentra todos los ceros y ponlos al principio de la lista, manteniendo el orden de los demás números.\n",
    "\n",
    "Ejemplo:\n",
    "\n",
    "```python\n",
    "A = [1,10,88,0,59,63,0,20,0]\n",
    "\n",
    "# tiene que devolver\n",
    "[0, 0, 0, 1, 10, 88, 59, 63, 20]\n",
    "```"
   ]
  },
  {
   "cell_type": "code",
   "execution_count": 16,
   "metadata": {},
   "outputs": [],
   "source": [
    "def ceros_delante(lista):\n",
    "\n",
    "    \"\"\"De una lista de números, coloca los ceros al principio y el resto de números los mantiene en su orden original.\n",
    "    Args:\n",
    "        lista (list): lista de números.\n",
    "    Returns:\n",
    "        list: lista con los ceros al principio.\n",
    "    \"\"\"\n",
    "\n",
    "    lista_final = []\n",
    "\n",
    "    for numero in lista:\n",
    "        if numero != 0:\n",
    "            lista_final.append(numero)\n",
    "        if numero == 0:\n",
    "            lista_final.insert(0, numero)\n",
    "\n",
    "    return lista_final"
   ]
  },
  {
   "cell_type": "code",
   "execution_count": 17,
   "metadata": {},
   "outputs": [],
   "source": [
    "a = [1,10,88,0,59,63,0,20,0]"
   ]
  },
  {
   "cell_type": "code",
   "execution_count": 18,
   "metadata": {},
   "outputs": [
    {
     "data": {
      "text/plain": [
       "[0, 0, 0, 1, 10, 88, 59, 63, 20]"
      ]
     },
     "execution_count": 18,
     "metadata": {},
     "output_type": "execute_result"
    }
   ],
   "source": [
    "lista_ceros = ceros_delante(a)\n",
    "lista_ceros"
   ]
  },
  {
   "attachments": {},
   "cell_type": "markdown",
   "metadata": {},
   "source": [
    "**Invertir palabras de una frase**\n",
    "\n",
    "Nos dan una frase en que quieren que las letras de cada palabra acaben teniendo el orden invertido, manteniendo el orden de las palabras.\n",
    "\n",
    "```python\n",
    "frase = 'Hola Ada'\n",
    "print(frase) # nos daría 'aloH adA'\n",
    "```"
   ]
  },
  {
   "cell_type": "code",
   "execution_count": 19,
   "metadata": {},
   "outputs": [],
   "source": [
    "frase = 'Hola Ada'"
   ]
  },
  {
   "cell_type": "code",
   "execution_count": 20,
   "metadata": {},
   "outputs": [],
   "source": [
    "def invertir_letras(texto):\n",
    "\n",
    "    \"\"\"Invierte las letras de cada palabras dentro de un texto.\n",
    "    Args:\n",
    "        texto (str): texto.\n",
    "    Returns:\n",
    "        texto: texto con las letras de cada palabra invertidas.\n",
    "    \"\"\"\n",
    "\n",
    "    lista_palabras = texto.split()\n",
    "    lista_reves = []\n",
    "\n",
    "    for indice, palabra in enumerate(lista_palabras):\n",
    "        palabra_inversa = lista_palabras[indice][::-1]\n",
    "        lista_reves.append(palabra_inversa)\n",
    "\n",
    "    texto_reves = ' '.join(lista_reves)\n",
    "    print(texto_reves)"
   ]
  },
  {
   "cell_type": "code",
   "execution_count": 21,
   "metadata": {},
   "outputs": [
    {
     "name": "stdout",
     "output_type": "stream",
     "text": [
      "aloH adA\n"
     ]
    }
   ],
   "source": [
    "frase_reves = invertir_letras(frase)"
   ]
  },
  {
   "attachments": {},
   "cell_type": "markdown",
   "metadata": {},
   "source": [
    "**¿Es un DNI valido?**\n",
    "\n",
    "Los DNI españoles pueden ser:\n",
    "\n",
    "- NIF (Numero de Identificación Fiscal) - 8 numeros y una letra, o\n",
    "- NIE (Numero de Identificación de Extranjeros) - 1 letra, 7 numeros y 1 letra."
   ]
  },
  {
   "cell_type": "code",
   "execution_count": 22,
   "metadata": {},
   "outputs": [],
   "source": [
    "import re"
   ]
  },
  {
   "cell_type": "code",
   "execution_count": 75,
   "metadata": {},
   "outputs": [],
   "source": [
    "class Validacion_dni:\n",
    "\n",
    "    def __init__(self):\n",
    "        self.patron_nif = '\\d{8}\\w{1}'\n",
    "        self.patron_nie = '\\w{1}\\d{7}\\w{1}'\n",
    "\n",
    "\n",
    "    def validar_nif(self, nif):\n",
    "\n",
    "        \"\"\"Detecta si un documento que se le pase cumple o no las características de un NIF\n",
    "        Args:\n",
    "            texto (str): texto con el código del documento.\n",
    "        Returns:\n",
    "            booleano: Booleano True o False en función de si cumple la condición o no.\n",
    "        \"\"\"\n",
    "            \n",
    "        if re.match(self.patron_nif, nif):\n",
    "            return True\n",
    "        else:\n",
    "            return False\n",
    "        \n",
    "        \n",
    "    def validar_nie(self, nie):\n",
    "\n",
    "        \"\"\"Detecta si un documento que se le pase cumple o no las características de un NIE\n",
    "        Args:\n",
    "            texto (str): texto con el código del documento.\n",
    "        Returns:\n",
    "            booleano: Booleano True o False en función de si cumple la condición o no.\n",
    "        \"\"\"\n",
    "                \n",
    "        if re.match(self.patron_nie, nie):\n",
    "            return True\n",
    "        else:\n",
    "            return False"
   ]
  },
  {
   "cell_type": "code",
   "execution_count": 68,
   "metadata": {},
   "outputs": [
    {
     "data": {
      "text/plain": [
       "True"
      ]
     },
     "execution_count": 68,
     "metadata": {},
     "output_type": "execute_result"
    }
   ],
   "source": [
    "documento_dni = Validacion_dni()\n",
    "documento_dni.validar_nif('91234567Z')"
   ]
  },
  {
   "cell_type": "code",
   "execution_count": 69,
   "metadata": {},
   "outputs": [],
   "source": [
    "lista_dni = [\"X1234567Z\", \"X1234567\", \"12345678M\", \"1234567T\", \"12345677\"] "
   ]
  },
  {
   "cell_type": "code",
   "execution_count": 76,
   "metadata": {},
   "outputs": [],
   "source": [
    "def validar_lista_documentos(lista_docu):\n",
    "\n",
    "    \"\"\"En base a una lista de documentos, llama a la clase Validacion_dni() y\n",
    "    devuelve en pantalla un texto informando si cada documento es válido o no.\n",
    "    Args:\n",
    "        lista_docu (list): lista con posbiles dnis.\n",
    "    Returns:\n",
    "        No tiene, imprime en pantalla si cada documento es nie o nif o si no es válido.\n",
    "    \"\"\"\n",
    "\n",
    "    validador = Validacion_dni()\n",
    "\n",
    "    for docu in lista_docu:\n",
    "\n",
    "        if validador.validar_nif(docu):\n",
    "            print(f'El documento {docu} es válido, es un NIF.')\n",
    "\n",
    "        elif validador.validar_nie(docu):\n",
    "            print(f'El documento {docu} es válido, es un NIE.')\n",
    "\n",
    "        else:\n",
    "            print(f'El documento {docu} no es válido.')"
   ]
  },
  {
   "cell_type": "code",
   "execution_count": 77,
   "metadata": {},
   "outputs": [
    {
     "name": "stdout",
     "output_type": "stream",
     "text": [
      "El documento X1234567Z es válido, es un NIE.\n",
      "El documento X1234567 no es válido.\n",
      "El documento 12345678M es válido, es un NIF.\n",
      "El documento 1234567T no es válido.\n",
      "El documento 12345677 no es válido.\n"
     ]
    }
   ],
   "source": [
    "validar_lista_documentos(lista_dni)"
   ]
  },
  {
   "attachments": {},
   "cell_type": "markdown",
   "metadata": {},
   "source": [
    "**Encuentra los k números más cerca a X**\n",
    "\n",
    "\n",
    "Haz una programa que compare los contenidos de una lista a un número dado X. Queremos que nos devuelva los k números que son más parecidos al número dado.\n",
    "\n",
    "Ejemplo:\n",
    "```python\n",
    "L = [4, 19, -5, 100, 53, 43, 74, -83, 13.5, 26]\n",
    "# Dados los siguientes valores \n",
    "x =30\n",
    "k = 3 # el número de números que tendremos que buscar en la lista que se parecen a 30 \n",
    "# El output debería ser igual a [26, 19, 43]\n",
    "```"
   ]
  },
  {
   "cell_type": "code",
   "execution_count": 27,
   "metadata": {},
   "outputs": [],
   "source": [
    "def buscar_num_cercanos (lista_num, num_clave, cantidad_cercanos):\n",
    "\n",
    "    \"\"\"De una lista de números, busca los más cercanos a otro número que se le indique.\n",
    "    La cantidad de números más cercanos que tiene que buscar también se le debe indicar.\n",
    "    Args:\n",
    "        lista_num (list): lista de números.\n",
    "        num_clave (int): número sobre el que queremos sacar los más cercanos.\n",
    "        cantidad_cercanos (int): cantidad de números que queremos sacar de la lista por orden de cercanía.\n",
    "    Returns:\n",
    "        lista: nueva lista con los números cercanos.\n",
    "    \"\"\"\n",
    "\n",
    "    lista_diferencia = []\n",
    "    lista_3_cercanos = []\n",
    "\n",
    "    for numero in lista_num:\n",
    "        diferencia = ()\n",
    "        if numero <= num_clave:\n",
    "            diferencia = num_clave - numero\n",
    "        else:\n",
    "            diferencia = numero - num_clave\n",
    "        lista_diferencia.append(diferencia)\n",
    "\n",
    "    lista_tuplas = list(zip(lista_diferencia, lista_num))\n",
    "\n",
    "    lista_tuplas.sort()\n",
    "\n",
    "    for tupla in lista_tuplas:\n",
    "        lista_3_cercanos.append(tupla[1])\n",
    "        if len(lista_3_cercanos) == cantidad_cercanos:\n",
    "            break\n",
    "\n",
    "    return lista_3_cercanos"
   ]
  },
  {
   "cell_type": "code",
   "execution_count": 26,
   "metadata": {},
   "outputs": [],
   "source": [
    "lista_num_cercanos = [4, 19, -5, 100, 53, 43, 74, -83, 13.5, 26]"
   ]
  },
  {
   "cell_type": "code",
   "execution_count": 28,
   "metadata": {},
   "outputs": [
    {
     "data": {
      "text/plain": [
       "[26, 19, 43]"
      ]
     },
     "execution_count": 28,
     "metadata": {},
     "output_type": "execute_result"
    }
   ],
   "source": [
    "buscar_num_cercanos(lista_num_cercanos, 30, 3)"
   ]
  }
 ],
 "metadata": {
  "kernelspec": {
   "display_name": "Python 3",
   "language": "python",
   "name": "python3"
  },
  "language_info": {
   "codemirror_mode": {
    "name": "ipython",
    "version": 3
   },
   "file_extension": ".py",
   "mimetype": "text/x-python",
   "name": "python",
   "nbconvert_exporter": "python",
   "pygments_lexer": "ipython3",
   "version": "3.10.11"
  },
  "orig_nbformat": 4,
  "vscode": {
   "interpreter": {
    "hash": "31f2aee4e71d21fbe5cf8b01ff0e069b9275f58929596ceb00d14d90e3e16cd6"
   }
  }
 },
 "nbformat": 4,
 "nbformat_minor": 2
}
