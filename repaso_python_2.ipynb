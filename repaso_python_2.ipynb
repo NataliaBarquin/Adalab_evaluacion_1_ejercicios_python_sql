{
 "cells": [
  {
   "cell_type": "code",
   "execution_count": 1,
   "metadata": {},
   "outputs": [],
   "source": [
    "tree = {\"Taiwan\": 69593,\n",
    "        \"Japan\": 49894, \n",
    "        \"Russia\": 41396, \n",
    "        \"Canada\": 36388, \n",
    "        \"Bulgaria\": 24987}"
   ]
  },
  {
   "cell_type": "code",
   "execution_count": 3,
   "metadata": {},
   "outputs": [
    {
     "data": {
      "text/plain": [
       "49894"
      ]
     },
     "execution_count": 3,
     "metadata": {},
     "output_type": "execute_result"
    }
   ],
   "source": [
    "#vamos a buscar el value de nuestra key\n",
    "tree['Japan']"
   ]
  },
  {
   "cell_type": "code",
   "execution_count": 7,
   "metadata": {},
   "outputs": [
    {
     "name": "stdout",
     "output_type": "stream",
     "text": [
      "['Taiwan', 'Japan', 'Russia']\n"
     ]
    }
   ],
   "source": [
    "#lo hacemos de forma manual como primera opción\n",
    "\n",
    "muchos_arboles = []\n",
    "\n",
    "if tree['Taiwan'] > 40000:\n",
    "    muchos_arboles.append('Taiwan')\n",
    "if tree['Japan'] > 40000:\n",
    "    muchos_arboles.append('Japan')\n",
    "if tree['Russia'] > 40000:\n",
    "    muchos_arboles.append('Russia')\n",
    "if tree['Canada'] > 40000:\n",
    "    muchos_arboles.append('Canada')\n",
    "if tree['Bulgaria'] > 40000:\n",
    "    muchos_arboles.append('Bulgaria')\n",
    "\n",
    "print(muchos_arboles)"
   ]
  },
  {
   "cell_type": "code",
   "execution_count": 11,
   "metadata": {},
   "outputs": [
    {
     "name": "stdout",
     "output_type": "stream",
     "text": [
      "['Taiwan', 'Japan', 'Russia']\n"
     ]
    }
   ],
   "source": [
    "mas_arboles = []\n",
    "\n",
    "for pais,arboles in tree.items():\n",
    "    if tree [pais] > 40000:\n",
    "        mas_arboles.append(pais)\n",
    "\n",
    "print(mas_arboles)"
   ]
  },
  {
   "cell_type": "code",
   "execution_count": 14,
   "metadata": {},
   "outputs": [
    {
     "name": "stdout",
     "output_type": "stream",
     "text": [
      "Taiwan\n",
      "69593\n",
      "--------\n",
      "Japan\n",
      "49894\n",
      "--------\n",
      "Russia\n",
      "41396\n",
      "--------\n",
      "Canada\n",
      "36388\n",
      "--------\n",
      "Bulgaria\n",
      "24987\n",
      "--------\n"
     ]
    }
   ],
   "source": [
    "#otra opcion que veremos, que es muy comun, es poner ---> for k,v in tree.items():  esto quiere decir key value\n",
    "for k,v in tree.items():\n",
    "    print(k)\n",
    "    print(v)\n",
    "    print('--------')\n"
   ]
  }
 ],
 "metadata": {
  "kernelspec": {
   "display_name": "adalabenv",
   "language": "python",
   "name": "python3"
  },
  "language_info": {
   "codemirror_mode": {
    "name": "ipython",
    "version": 3
   },
   "file_extension": ".py",
   "mimetype": "text/x-python",
   "name": "python",
   "nbconvert_exporter": "python",
   "pygments_lexer": "ipython3",
   "version": "3.10.11"
  },
  "orig_nbformat": 4
 },
 "nbformat": 4,
 "nbformat_minor": 2
}
